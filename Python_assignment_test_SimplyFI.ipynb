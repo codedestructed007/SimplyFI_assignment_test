{
  "nbformat": 4,
  "nbformat_minor": 0,
  "metadata": {
    "colab": {
      "provenance": []
    },
    "kernelspec": {
      "name": "python3",
      "display_name": "Python 3"
    },
    "language_info": {
      "name": "python"
    }
  },
  "cells": [
    {
      "cell_type": "markdown",
      "source": [
        "# Question 1\n",
        "1. write a python code for converting integer values to Indian currency notations, without\n",
        "using the currency libraries\n"
      ],
      "metadata": {
        "id": "oGZ0fHn5Ou47"
      }
    },
    {
      "cell_type": "markdown",
      "source": [
        "#### Problem understanding\n",
        "*  will start from the last digit of the integer.\n",
        "* The first comma appears after 3 digits from the end.\n",
        "* Subsequent commas appear after every 2nd digit from the last, following the first comma placement.\n",
        "* If the total length of the integer is even:\n",
        "* The first comma will be just after the 1st digit from the start.\n",
        "* If the total length of the integer is odd:\n",
        "* The first comma will be after the first 2 digits from the start."
      ],
      "metadata": {
        "id": "i_0JwniQPQnJ"
      }
    },
    {
      "cell_type": "code",
      "source": [
        "def convert_to_indian_currency(number):\n",
        "  # Reverse the number to start from the end\n",
        "    num_str = str(number)[::-1]\n",
        "    length = len(num_str)\n",
        "    indian_currency = ''\n",
        "\n",
        "    for i in range(length):\n",
        "      # Case 1: Place the first comma after three digits\n",
        "        if i < 3:\n",
        "            if i != 0 and i % 3 == 0:\n",
        "                indian_currency += ','\n",
        "            indian_currency += num_str[i]\n",
        "            # Case 2: After the first comma, place a comma after every 2 digits\n",
        "        else:\n",
        "            if (i - 1) % 2 == 0:\n",
        "                indian_currency += ','\n",
        "            indian_currency += num_str[i]\n",
        "    # Reverse the result back to normal\n",
        "    return indian_currency[::-1]\n"
      ],
      "metadata": {
        "id": "vXJHLVYJWrqU"
      },
      "execution_count": 84,
      "outputs": []
    },
    {
      "cell_type": "markdown",
      "source": [
        "## Test cases"
      ],
      "metadata": {
        "id": "KEmPqkiej42d"
      }
    },
    {
      "cell_type": "code",
      "source": [
        "# Test the function\n",
        "result = convert_to_indian_currency(345232)\n",
        "print(\"Indian Currency Notation:\", result)"
      ],
      "metadata": {
        "colab": {
          "base_uri": "https://localhost:8080/"
        },
        "id": "JUVXw8HplVSi",
        "outputId": "66861977-759f-4be1-c8a6-07c955066dd4"
      },
      "execution_count": 85,
      "outputs": [
        {
          "output_type": "stream",
          "name": "stdout",
          "text": [
            "Indian Currency Notation: 3,45,232\n"
          ]
        }
      ]
    },
    {
      "cell_type": "code",
      "source": [
        "convert_to_indian_currency(4231)"
      ],
      "metadata": {
        "colab": {
          "base_uri": "https://localhost:8080/",
          "height": 35
        },
        "id": "f6WTGDM-ajUX",
        "outputId": "fa31a79c-7387-48e3-ff8e-9cc8e5e049e8"
      },
      "execution_count": 86,
      "outputs": [
        {
          "output_type": "execute_result",
          "data": {
            "text/plain": [
              "'4,231'"
            ],
            "application/vnd.google.colaboratory.intrinsic+json": {
              "type": "string"
            }
          },
          "metadata": {},
          "execution_count": 86
        }
      ]
    },
    {
      "cell_type": "code",
      "source": [
        "convert_to_indian_currency(24233)"
      ],
      "metadata": {
        "colab": {
          "base_uri": "https://localhost:8080/",
          "height": 35
        },
        "id": "ISo59wuqbl2W",
        "outputId": "98408ebb-04d4-40cf-d04d-0b5fb4b2d462"
      },
      "execution_count": 87,
      "outputs": [
        {
          "output_type": "execute_result",
          "data": {
            "text/plain": [
              "'24,233'"
            ],
            "application/vnd.google.colaboratory.intrinsic+json": {
              "type": "string"
            }
          },
          "metadata": {},
          "execution_count": 87
        }
      ]
    },
    {
      "cell_type": "markdown",
      "source": [
        "# Question 2nd"
      ],
      "metadata": {
        "id": "t7grfjPicR69"
      }
    },
    {
      "cell_type": "markdown",
      "source": [
        "### Approach to solving the problem\n",
        "1. take the inputs of Players between Ali and Gi-Hun with for loop and the length of the loop should be N\n",
        "2. Apply condition while taking loop on every element according to the question needs\n",
        "3. Lastly apply for loop only on the heights of players if the any player's height is greater than the Ali's and Gi-Hun's height then it supposed to get shot.\n",
        "4. Return the total counts which is equivalant to the minimum number of players who need to get shot"
      ],
      "metadata": {
        "id": "j0RmvayfiLfY"
      }
    },
    {
      "cell_type": "code",
      "source": [
        "def game(N: int, K: int):\n",
        "    # N is the total number of players between Ali and Gi-Hun\n",
        "    # N < 5.105\n",
        "    # other constraints:\n",
        "    # 1. 1 <= T <= 105\n",
        "    # 2. 1 <= N <= 105\n",
        "    # 3. 1 <= k <= 10^6\n",
        "    # 4. 1 <= Hi <= 10^6\n",
        "\n",
        "    if N < 1 or N > 105:\n",
        "        raise ValueError(\"N should be between 1 and 105 inclusive.\")\n",
        "\n",
        "    if K < 1 or K > 106:\n",
        "        raise ValueError(\"K should be between 1 and 10^6 inclusive.\")\n",
        "\n",
        "    players_height_between_ali_gh = []\n",
        "\n",
        "    for i in range(N):\n",
        "        element = int(input(f\"Enter height of player {i+1} between 1 and 106 inclusive: \"))\n",
        "        if element < 1 or element > 106:\n",
        "            raise ValueError(\"Height should be between 1 and 106 inclusive.\")\n",
        "        players_height_between_ali_gh.append(element)\n",
        "\n",
        "    count = 0\n",
        "    ali_gh_heights = K\n",
        "\n",
        "    for i in players_height_between_ali_gh:\n",
        "        if i > ali_gh_heights:\n",
        "            count += 1\n",
        "\n",
        "    return count\n"
      ],
      "metadata": {
        "id": "0anBTxX5cPCH"
      },
      "execution_count": 88,
      "outputs": []
    },
    {
      "cell_type": "code",
      "source": [
        "# Test case 1\n",
        "game(4,10)"
      ],
      "metadata": {
        "colab": {
          "base_uri": "https://localhost:8080/"
        },
        "id": "k9poXWr6gVHn",
        "outputId": "86a0dee3-53c1-4444-de54-c3152cbd67ab"
      },
      "execution_count": 90,
      "outputs": [
        {
          "name": "stdout",
          "output_type": "stream",
          "text": [
            "Enter height of player 1 between 1 and 106 inclusive: 2\n",
            "Enter height of player 2 between 1 and 106 inclusive: 13\n",
            "Enter height of player 3 between 1 and 106 inclusive: 4\n",
            "Enter height of player 4 between 1 and 106 inclusive: 16\n"
          ]
        },
        {
          "output_type": "execute_result",
          "data": {
            "text/plain": [
              "2"
            ]
          },
          "metadata": {},
          "execution_count": 90
        }
      ]
    },
    {
      "cell_type": "code",
      "source": [
        "# test case 2nd\n",
        "game(5,8)"
      ],
      "metadata": {
        "colab": {
          "base_uri": "https://localhost:8080/"
        },
        "id": "yiQGe0nSgX2P",
        "outputId": "eee2a207-1164-4f03-a6d2-2592ce5f65a4"
      },
      "execution_count": 91,
      "outputs": [
        {
          "name": "stdout",
          "output_type": "stream",
          "text": [
            "Enter height of player 1 between 1 and 106 inclusive: 9\n",
            "Enter height of player 2 between 1 and 106 inclusive: 3\n",
            "Enter height of player 3 between 1 and 106 inclusive: 8\n",
            "Enter height of player 4 between 1 and 106 inclusive: 8\n",
            "Enter height of player 5 between 1 and 106 inclusive: 4\n"
          ]
        },
        {
          "output_type": "execute_result",
          "data": {
            "text/plain": [
              "1"
            ]
          },
          "metadata": {},
          "execution_count": 91
        }
      ]
    },
    {
      "cell_type": "code",
      "source": [
        "# Test case 3rd\n",
        "game(4,6)"
      ],
      "metadata": {
        "colab": {
          "base_uri": "https://localhost:8080/"
        },
        "id": "GSM042s5iBPH",
        "outputId": "87354c58-6093-41d6-94c3-eaddc2315e71"
      },
      "execution_count": null,
      "outputs": [
        {
          "name": "stdout",
          "output_type": "stream",
          "text": [
            "Enter height of player 1 between 1 and 106 inclusive: 1\n",
            "Enter height of player 2 between 1 and 106 inclusive: 2\n",
            "Enter height of player 3 between 1 and 106 inclusive: 3\n",
            "Enter height of player 4 between 1 and 106 inclusive: 4\n"
          ]
        },
        {
          "output_type": "execute_result",
          "data": {
            "text/plain": [
              "0"
            ]
          },
          "metadata": {},
          "execution_count": 73
        }
      ]
    },
    {
      "cell_type": "code",
      "source": [
        "# Error test case\n",
        "game(110,6)"
      ],
      "metadata": {
        "colab": {
          "base_uri": "https://localhost:8080/",
          "height": 315
        },
        "id": "JSWohYwfiH7L",
        "outputId": "d4381fa5-4d61-48d1-a629-0e1315803c1a"
      },
      "execution_count": null,
      "outputs": [
        {
          "output_type": "error",
          "ename": "ValueError",
          "evalue": "ignored",
          "traceback": [
            "\u001b[0;31m---------------------------------------------------------------------------\u001b[0m",
            "\u001b[0;31mValueError\u001b[0m                                Traceback (most recent call last)",
            "\u001b[0;32m<ipython-input-75-a4037f1bd967>\u001b[0m in \u001b[0;36m<cell line: 2>\u001b[0;34m()\u001b[0m\n\u001b[1;32m      1\u001b[0m \u001b[0;31m# Error test case\u001b[0m\u001b[0;34m\u001b[0m\u001b[0;34m\u001b[0m\u001b[0m\n\u001b[0;32m----> 2\u001b[0;31m \u001b[0mgame\u001b[0m\u001b[0;34m(\u001b[0m\u001b[0;36m110\u001b[0m\u001b[0;34m,\u001b[0m\u001b[0;36m6\u001b[0m\u001b[0;34m)\u001b[0m\u001b[0;34m\u001b[0m\u001b[0;34m\u001b[0m\u001b[0m\n\u001b[0m",
            "\u001b[0;32m<ipython-input-69-3e73daad5f59>\u001b[0m in \u001b[0;36mgame\u001b[0;34m(N, K)\u001b[0m\n\u001b[1;32m      9\u001b[0m \u001b[0;34m\u001b[0m\u001b[0m\n\u001b[1;32m     10\u001b[0m     \u001b[0;32mif\u001b[0m \u001b[0mN\u001b[0m \u001b[0;34m<\u001b[0m \u001b[0;36m1\u001b[0m \u001b[0;32mor\u001b[0m \u001b[0mN\u001b[0m \u001b[0;34m>\u001b[0m \u001b[0;36m105\u001b[0m\u001b[0;34m:\u001b[0m\u001b[0;34m\u001b[0m\u001b[0;34m\u001b[0m\u001b[0m\n\u001b[0;32m---> 11\u001b[0;31m         \u001b[0;32mraise\u001b[0m \u001b[0mValueError\u001b[0m\u001b[0;34m(\u001b[0m\u001b[0;34m\"N should be between 1 and 105 inclusive.\"\u001b[0m\u001b[0;34m)\u001b[0m\u001b[0;34m\u001b[0m\u001b[0;34m\u001b[0m\u001b[0m\n\u001b[0m\u001b[1;32m     12\u001b[0m \u001b[0;34m\u001b[0m\u001b[0m\n\u001b[1;32m     13\u001b[0m     \u001b[0;32mif\u001b[0m \u001b[0mK\u001b[0m \u001b[0;34m<\u001b[0m \u001b[0;36m1\u001b[0m \u001b[0;32mor\u001b[0m \u001b[0mK\u001b[0m \u001b[0;34m>\u001b[0m \u001b[0;36m10\u001b[0m \u001b[0;34m**\u001b[0m \u001b[0;36m6\u001b[0m\u001b[0;34m:\u001b[0m\u001b[0;34m\u001b[0m\u001b[0;34m\u001b[0m\u001b[0m\n",
            "\u001b[0;31mValueError\u001b[0m: N should be between 1 and 105 inclusive."
          ]
        }
      ]
    }
  ]
}